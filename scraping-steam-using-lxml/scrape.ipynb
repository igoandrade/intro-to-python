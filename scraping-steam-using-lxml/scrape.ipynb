{
 "cells": [
  {
   "cell_type": "markdown",
   "metadata": {},
   "source": [
    "# Scraping Steam usando lxml"
   ]
  },
  {
   "cell_type": "code",
   "execution_count": 1,
   "metadata": {},
   "outputs": [],
   "source": [
    "import requests\n",
    "import lxml.html"
   ]
  },
  {
   "cell_type": "code",
   "execution_count": 2,
   "metadata": {},
   "outputs": [],
   "source": [
    "url = 'https://store.steampowered.com/explore/new/'\n",
    "html = requests.get(url)\n",
    "doc = lxml.html.fromstring(html.content)"
   ]
  },
  {
   "cell_type": "code",
   "execution_count": 10,
   "metadata": {},
   "outputs": [],
   "source": [
    "new_releases = doc.xpath('//*[@id=\"tab_newreleases_content\"]')[0]"
   ]
  },
  {
   "cell_type": "code",
   "execution_count": 11,
   "metadata": {},
   "outputs": [],
   "source": [
    "titles = new_releases.xpath('.//div[@class=\"tab_item_name\"]/text()')"
   ]
  },
  {
   "cell_type": "code",
   "execution_count": 12,
   "metadata": {},
   "outputs": [
    {
     "data": {
      "text/plain": [
       "['Re-Volt',\n",
       " 'Digimon Survive',\n",
       " 'Everdell',\n",
       " 'Bear and Breakfast',\n",
       " 'Autonauts vs Piratebots',\n",
       " 'Vestaria Saga II: The Sacred Sword of Silvanister',\n",
       " 'Dungeon Munchies',\n",
       " 'Error143',\n",
       " 'Cartel Tycoon',\n",
       " 'WW2 Rebuilder: Germany Prologue',\n",
       " 'World of Haiku',\n",
       " 'Flower girl 2',\n",
       " 'Rock Life: The Rock Simulator',\n",
       " 'Impact Point',\n",
       " \"Baldur's Gate: Dark Alliance II\",\n",
       " 'Half-Earth Socialism',\n",
       " 'As Dusk Falls',\n",
       " 'MultiVersus',\n",
       " 'Stray',\n",
       " 'Climber: Sky is the Limit - Free Trial',\n",
       " 'Peepo Island',\n",
       " 'PowerWash Simulator',\n",
       " 'Urbek City Builder',\n",
       " 'MADiSON',\n",
       " \"Tiny Tina's Wonderlands\",\n",
       " \"Tiny Tina's Wonderlands\",\n",
       " 'Raft',\n",
       " 'The Looker',\n",
       " 'Smithworks',\n",
       " 'FINAL FANTASY VII REMAKE INTERGRADE',\n",
       " 'Starship Troopers: Terran Command',\n",
       " 'Neon White',\n",
       " \"Teenage Mutant Ninja Turtles: Shredder's Revenge\",\n",
       " 'Monster Hunter Rise: Sunbreak Demo',\n",
       " 'Chivalry 2',\n",
       " 'Symphony of War: The Nephilim Saga']"
      ]
     },
     "execution_count": 12,
     "metadata": {},
     "output_type": "execute_result"
    }
   ],
   "source": [
    "titles"
   ]
  },
  {
   "cell_type": "code",
   "execution_count": 15,
   "metadata": {},
   "outputs": [],
   "source": [
    "prices = new_releases.xpath('.//div[@class=\"discount_final_price\"]/text()')"
   ]
  },
  {
   "cell_type": "code",
   "execution_count": 16,
   "metadata": {},
   "outputs": [
    {
     "data": {
      "text/plain": [
       "['$5.39',\n",
       " '$59.99',\n",
       " '$19.99',\n",
       " '$19.99',\n",
       " '$17.99',\n",
       " '$19.99',\n",
       " '$19.99',\n",
       " 'Free To Play',\n",
       " '$17.49',\n",
       " 'Free',\n",
       " '$24.99',\n",
       " 'Free To Play',\n",
       " 'Free To Play',\n",
       " 'Free To Play',\n",
       " '$29.99',\n",
       " 'Free',\n",
       " '$29.99',\n",
       " 'Free to Play',\n",
       " '$29.99',\n",
       " 'Free',\n",
       " 'Free',\n",
       " '$24.99',\n",
       " '$16.99',\n",
       " '$34.99',\n",
       " '$59.99',\n",
       " '$59.99',\n",
       " '$19.99',\n",
       " 'Free',\n",
       " 'Free',\n",
       " '$69.99',\n",
       " '$29.99',\n",
       " '$24.99',\n",
       " '$24.99',\n",
       " 'Free to Play',\n",
       " '$39.99',\n",
       " '$15.99']"
      ]
     },
     "execution_count": 16,
     "metadata": {},
     "output_type": "execute_result"
    }
   ],
   "source": [
    "prices"
   ]
  },
  {
   "cell_type": "code",
   "execution_count": null,
   "metadata": {},
   "outputs": [],
   "source": []
  }
 ],
 "metadata": {
  "kernelspec": {
   "display_name": "Python 3.8.13 64-bit ('3.8.13')",
   "language": "python",
   "name": "python3"
  },
  "language_info": {
   "codemirror_mode": {
    "name": "ipython",
    "version": 3
   },
   "file_extension": ".py",
   "mimetype": "text/x-python",
   "name": "python",
   "nbconvert_exporter": "python",
   "pygments_lexer": "ipython3",
   "version": "3.8.13"
  },
  "orig_nbformat": 4,
  "vscode": {
   "interpreter": {
    "hash": "110cc1dee26208153f2972f08a2ad52b6a56238dc66d48e87fb757ef2996db56"
   }
  }
 },
 "nbformat": 4,
 "nbformat_minor": 2
}
